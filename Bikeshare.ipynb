{
 "cells": [
  {
   "cell_type": "markdown",
   "metadata": {},
   "source": [
    "### Explore Bike Share Data\n"
   ]
  },
  {
   "cell_type": "code",
   "execution_count": 1,
   "metadata": {},
   "outputs": [],
   "source": [
    "#Importing the csv file\n",
    "\n",
    "ny = read.csv('new_york_city.csv')\n",
    "wash = read.csv('washington.csv')\n",
    "chi = read.csv('chicago.csv')"
   ]
  },
  {
   "cell_type": "code",
   "execution_count": 2,
   "metadata": {},
   "outputs": [
    {
     "data": {
      "text/html": [
       "<table>\n",
       "<thead><tr><th scope=col>X</th><th scope=col>Start.Time</th><th scope=col>End.Time</th><th scope=col>Trip.Duration</th><th scope=col>Start.Station</th><th scope=col>End.Station</th><th scope=col>User.Type</th><th scope=col>Gender</th><th scope=col>Birth.Year</th></tr></thead>\n",
       "<tbody>\n",
       "\t<tr><td>5688089                                       </td><td>2017-06-11 14:55:05                           </td><td>2017-06-11 15:08:21                           </td><td> 795                                          </td><td>Suffolk St &amp; Stanton St                   </td><td>W Broadway &amp; Spring St                    </td><td>Subscriber                                    </td><td><span style=white-space:pre-wrap>Male  </span></td><td>1998                                          </td></tr>\n",
       "\t<tr><td>4096714                                                           </td><td>2017-05-11 15:30:11                                               </td><td>2017-05-11 15:41:43                                               </td><td> 692                                                              </td><td>Lexington Ave &amp; E 63 St                                       </td><td><span style=white-space:pre-wrap>1 Ave &amp; E 78 St       </span></td><td>Subscriber                                                        </td><td><span style=white-space:pre-wrap>Male  </span>                    </td><td>1981                                                              </td></tr>\n",
       "\t<tr><td>2173887                                                            </td><td>2017-03-29 13:26:26                                                </td><td>2017-03-29 13:48:31                                                </td><td>1325                                                               </td><td><span style=white-space:pre-wrap>1 Pl &amp; Clinton St      </span></td><td><span style=white-space:pre-wrap>Henry St &amp; Degraw St  </span> </td><td>Subscriber                                                         </td><td><span style=white-space:pre-wrap>Male  </span>                     </td><td>1987                                                               </td></tr>\n",
       "\t<tr><td>3945638                                                            </td><td>2017-05-08 19:47:18                                                </td><td>2017-05-08 19:59:01                                                </td><td> 703                                                               </td><td><span style=white-space:pre-wrap>Barrow St &amp; Hudson St  </span></td><td><span style=white-space:pre-wrap>W 20 St &amp; 8 Ave       </span> </td><td>Subscriber                                                         </td><td>Female                                                             </td><td>1986                                                               </td></tr>\n",
       "\t<tr><td>6208972                                                            </td><td>2017-06-21 07:49:16                                                </td><td>2017-06-21 07:54:46                                                </td><td> 329                                                               </td><td><span style=white-space:pre-wrap>1 Ave &amp; E 44 St        </span></td><td><span style=white-space:pre-wrap>E 53 St &amp; 3 Ave       </span> </td><td>Subscriber                                                         </td><td><span style=white-space:pre-wrap>Male  </span>                     </td><td>1992                                                               </td></tr>\n",
       "\t<tr><td>1285652                                                            </td><td>2017-02-22 18:55:24                                                </td><td>2017-02-22 19:12:03                                                </td><td> 998                                                               </td><td><span style=white-space:pre-wrap>State St &amp; Smith St    </span></td><td><span style=white-space:pre-wrap>Bond St &amp; Fulton St   </span> </td><td>Subscriber                                                         </td><td><span style=white-space:pre-wrap>Male  </span>                     </td><td>1986                                                               </td></tr>\n",
       "</tbody>\n",
       "</table>\n"
      ],
      "text/latex": [
       "\\begin{tabular}{r|lllllllll}\n",
       " X & Start.Time & End.Time & Trip.Duration & Start.Station & End.Station & User.Type & Gender & Birth.Year\\\\\n",
       "\\hline\n",
       "\t 5688089                   & 2017-06-11 14:55:05       & 2017-06-11 15:08:21       &  795                      & Suffolk St \\& Stanton St & W Broadway \\& Spring St  & Subscriber                & Male                      & 1998                     \\\\\n",
       "\t 4096714                   & 2017-05-11 15:30:11       & 2017-05-11 15:41:43       &  692                      & Lexington Ave \\& E 63 St & 1 Ave \\& E 78 St         & Subscriber                & Male                      & 1981                     \\\\\n",
       "\t 2173887                   & 2017-03-29 13:26:26       & 2017-03-29 13:48:31       & 1325                      & 1 Pl \\& Clinton St       & Henry St \\& Degraw St    & Subscriber                & Male                      & 1987                     \\\\\n",
       "\t 3945638                   & 2017-05-08 19:47:18       & 2017-05-08 19:59:01       &  703                      & Barrow St \\& Hudson St   & W 20 St \\& 8 Ave         & Subscriber                & Female                    & 1986                     \\\\\n",
       "\t 6208972                   & 2017-06-21 07:49:16       & 2017-06-21 07:54:46       &  329                      & 1 Ave \\& E 44 St         & E 53 St \\& 3 Ave         & Subscriber                & Male                      & 1992                     \\\\\n",
       "\t 1285652                   & 2017-02-22 18:55:24       & 2017-02-22 19:12:03       &  998                      & State St \\& Smith St     & Bond St \\& Fulton St     & Subscriber                & Male                      & 1986                     \\\\\n",
       "\\end{tabular}\n"
      ],
      "text/markdown": [
       "\n",
       "| X | Start.Time | End.Time | Trip.Duration | Start.Station | End.Station | User.Type | Gender | Birth.Year |\n",
       "|---|---|---|---|---|---|---|---|---|\n",
       "| 5688089                 | 2017-06-11 14:55:05     | 2017-06-11 15:08:21     |  795                    | Suffolk St & Stanton St | W Broadway & Spring St  | Subscriber              | Male                    | 1998                    |\n",
       "| 4096714                 | 2017-05-11 15:30:11     | 2017-05-11 15:41:43     |  692                    | Lexington Ave & E 63 St | 1 Ave & E 78 St         | Subscriber              | Male                    | 1981                    |\n",
       "| 2173887                 | 2017-03-29 13:26:26     | 2017-03-29 13:48:31     | 1325                    | 1 Pl & Clinton St       | Henry St & Degraw St    | Subscriber              | Male                    | 1987                    |\n",
       "| 3945638                 | 2017-05-08 19:47:18     | 2017-05-08 19:59:01     |  703                    | Barrow St & Hudson St   | W 20 St & 8 Ave         | Subscriber              | Female                  | 1986                    |\n",
       "| 6208972                 | 2017-06-21 07:49:16     | 2017-06-21 07:54:46     |  329                    | 1 Ave & E 44 St         | E 53 St & 3 Ave         | Subscriber              | Male                    | 1992                    |\n",
       "| 1285652                 | 2017-02-22 18:55:24     | 2017-02-22 19:12:03     |  998                    | State St & Smith St     | Bond St & Fulton St     | Subscriber              | Male                    | 1986                    |\n",
       "\n"
      ],
      "text/plain": [
       "  X       Start.Time          End.Time            Trip.Duration\n",
       "1 5688089 2017-06-11 14:55:05 2017-06-11 15:08:21  795         \n",
       "2 4096714 2017-05-11 15:30:11 2017-05-11 15:41:43  692         \n",
       "3 2173887 2017-03-29 13:26:26 2017-03-29 13:48:31 1325         \n",
       "4 3945638 2017-05-08 19:47:18 2017-05-08 19:59:01  703         \n",
       "5 6208972 2017-06-21 07:49:16 2017-06-21 07:54:46  329         \n",
       "6 1285652 2017-02-22 18:55:24 2017-02-22 19:12:03  998         \n",
       "  Start.Station           End.Station            User.Type  Gender Birth.Year\n",
       "1 Suffolk St & Stanton St W Broadway & Spring St Subscriber Male   1998      \n",
       "2 Lexington Ave & E 63 St 1 Ave & E 78 St        Subscriber Male   1981      \n",
       "3 1 Pl & Clinton St       Henry St & Degraw St   Subscriber Male   1987      \n",
       "4 Barrow St & Hudson St   W 20 St & 8 Ave        Subscriber Female 1986      \n",
       "5 1 Ave & E 44 St         E 53 St & 3 Ave        Subscriber Male   1992      \n",
       "6 State St & Smith St     Bond St & Fulton St    Subscriber Male   1986      "
      ]
     },
     "metadata": {},
     "output_type": "display_data"
    }
   ],
   "source": [
    "head(ny)"
   ]
  },
  {
   "cell_type": "code",
   "execution_count": 3,
   "metadata": {},
   "outputs": [
    {
     "data": {
      "text/html": [
       "<table>\n",
       "<thead><tr><th scope=col>X</th><th scope=col>Start.Time</th><th scope=col>End.Time</th><th scope=col>Trip.Duration</th><th scope=col>Start.Station</th><th scope=col>End.Station</th><th scope=col>User.Type</th></tr></thead>\n",
       "<tbody>\n",
       "\t<tr><td>1621326                                                                                        </td><td>2017-06-21 08:36:34                                                                            </td><td>2017-06-21 08:44:43                                                                            </td><td> 489.066                                                                                       </td><td><span style=white-space:pre-wrap>14th &amp; Belmont St NW                       </span>        </td><td><span style=white-space:pre-wrap>15th &amp; K St NW                                     </span></td><td>Subscriber                                                                                     </td></tr>\n",
       "\t<tr><td> 482740                                                                                        </td><td>2017-03-11 10:40:00                                                                            </td><td>2017-03-11 10:46:00                                                                            </td><td> 402.549                                                                                       </td><td><span style=white-space:pre-wrap>Yuma St &amp; Tenley Circle NW                 </span>        </td><td><span style=white-space:pre-wrap>Connecticut Ave &amp; Yuma St NW                       </span></td><td>Subscriber                                                                                     </td></tr>\n",
       "\t<tr><td>1330037                                                                                        </td><td>2017-05-30 01:02:59                                                                            </td><td>2017-05-30 01:13:37                                                                            </td><td> 637.251                                                                                       </td><td><span style=white-space:pre-wrap>17th St &amp; Massachusetts Ave NW             </span>        </td><td><span style=white-space:pre-wrap>5th &amp; K St NW                                      </span></td><td>Subscriber                                                                                     </td></tr>\n",
       "\t<tr><td> 665458                                                                                        </td><td>2017-04-02 07:48:35                                                                            </td><td>2017-04-02 08:19:03                                                                            </td><td>1827.341                                                                                       </td><td><span style=white-space:pre-wrap>Constitution Ave &amp; 2nd St NW/DOL           </span>        </td><td><span style=white-space:pre-wrap>M St &amp; Pennsylvania Ave NW                         </span></td><td><span style=white-space:pre-wrap>Customer  </span>                                             </td></tr>\n",
       "\t<tr><td>1481135                                                                                        </td><td>2017-06-10 08:36:28                                                                            </td><td>2017-06-10 09:02:17                                                                            </td><td>1549.427                                                                                       </td><td>Henry Bacon Dr &amp; Lincoln Memorial Circle NW                                                </td><td><span style=white-space:pre-wrap>Maine Ave &amp; 7th St SW                              </span></td><td>Subscriber                                                                                     </td></tr>\n",
       "\t<tr><td>1148202                                                                                </td><td>2017-05-14 07:18:18                                                                    </td><td>2017-05-14 07:24:56                                                                    </td><td> 398.000                                                                               </td><td><span style=white-space:pre-wrap>1st &amp; K St SE                              </span></td><td>Eastern Market Metro / Pennsylvania Ave &amp; 7th St SE                                </td><td>Subscriber                                                                             </td></tr>\n",
       "</tbody>\n",
       "</table>\n"
      ],
      "text/latex": [
       "\\begin{tabular}{r|lllllll}\n",
       " X & Start.Time & End.Time & Trip.Duration & Start.Station & End.Station & User.Type\\\\\n",
       "\\hline\n",
       "\t 1621326                                               & 2017-06-21 08:36:34                                   & 2017-06-21 08:44:43                                   &  489.066                                              & 14th \\& Belmont St NW                                & 15th \\& K St NW                                      & Subscriber                                           \\\\\n",
       "\t  482740                                               & 2017-03-11 10:40:00                                   & 2017-03-11 10:46:00                                   &  402.549                                              & Yuma St \\& Tenley Circle NW                          & Connecticut Ave \\& Yuma St NW                        & Subscriber                                           \\\\\n",
       "\t 1330037                                               & 2017-05-30 01:02:59                                   & 2017-05-30 01:13:37                                   &  637.251                                              & 17th St \\& Massachusetts Ave NW                      & 5th \\& K St NW                                       & Subscriber                                           \\\\\n",
       "\t  665458                                               & 2017-04-02 07:48:35                                   & 2017-04-02 08:19:03                                   & 1827.341                                              & Constitution Ave \\& 2nd St NW/DOL                    & M St \\& Pennsylvania Ave NW                          & Customer                                             \\\\\n",
       "\t 1481135                                               & 2017-06-10 08:36:28                                   & 2017-06-10 09:02:17                                   & 1549.427                                              & Henry Bacon Dr \\& Lincoln Memorial Circle NW         & Maine Ave \\& 7th St SW                               & Subscriber                                           \\\\\n",
       "\t 1148202                                               & 2017-05-14 07:18:18                                   & 2017-05-14 07:24:56                                   &  398.000                                              & 1st \\& K St SE                                       & Eastern Market Metro / Pennsylvania Ave \\& 7th St SE & Subscriber                                           \\\\\n",
       "\\end{tabular}\n"
      ],
      "text/markdown": [
       "\n",
       "| X | Start.Time | End.Time | Trip.Duration | Start.Station | End.Station | User.Type |\n",
       "|---|---|---|---|---|---|---|\n",
       "| 1621326                                             | 2017-06-21 08:36:34                                 | 2017-06-21 08:44:43                                 |  489.066                                            | 14th & Belmont St NW                                | 15th & K St NW                                      | Subscriber                                          |\n",
       "|  482740                                             | 2017-03-11 10:40:00                                 | 2017-03-11 10:46:00                                 |  402.549                                            | Yuma St & Tenley Circle NW                          | Connecticut Ave & Yuma St NW                        | Subscriber                                          |\n",
       "| 1330037                                             | 2017-05-30 01:02:59                                 | 2017-05-30 01:13:37                                 |  637.251                                            | 17th St & Massachusetts Ave NW                      | 5th & K St NW                                       | Subscriber                                          |\n",
       "|  665458                                             | 2017-04-02 07:48:35                                 | 2017-04-02 08:19:03                                 | 1827.341                                            | Constitution Ave & 2nd St NW/DOL                    | M St & Pennsylvania Ave NW                          | Customer                                            |\n",
       "| 1481135                                             | 2017-06-10 08:36:28                                 | 2017-06-10 09:02:17                                 | 1549.427                                            | Henry Bacon Dr & Lincoln Memorial Circle NW         | Maine Ave & 7th St SW                               | Subscriber                                          |\n",
       "| 1148202                                             | 2017-05-14 07:18:18                                 | 2017-05-14 07:24:56                                 |  398.000                                            | 1st & K St SE                                       | Eastern Market Metro / Pennsylvania Ave & 7th St SE | Subscriber                                          |\n",
       "\n"
      ],
      "text/plain": [
       "  X       Start.Time          End.Time            Trip.Duration\n",
       "1 1621326 2017-06-21 08:36:34 2017-06-21 08:44:43  489.066     \n",
       "2  482740 2017-03-11 10:40:00 2017-03-11 10:46:00  402.549     \n",
       "3 1330037 2017-05-30 01:02:59 2017-05-30 01:13:37  637.251     \n",
       "4  665458 2017-04-02 07:48:35 2017-04-02 08:19:03 1827.341     \n",
       "5 1481135 2017-06-10 08:36:28 2017-06-10 09:02:17 1549.427     \n",
       "6 1148202 2017-05-14 07:18:18 2017-05-14 07:24:56  398.000     \n",
       "  Start.Station                              \n",
       "1 14th & Belmont St NW                       \n",
       "2 Yuma St & Tenley Circle NW                 \n",
       "3 17th St & Massachusetts Ave NW             \n",
       "4 Constitution Ave & 2nd St NW/DOL           \n",
       "5 Henry Bacon Dr & Lincoln Memorial Circle NW\n",
       "6 1st & K St SE                              \n",
       "  End.Station                                         User.Type \n",
       "1 15th & K St NW                                      Subscriber\n",
       "2 Connecticut Ave & Yuma St NW                        Subscriber\n",
       "3 5th & K St NW                                       Subscriber\n",
       "4 M St & Pennsylvania Ave NW                          Customer  \n",
       "5 Maine Ave & 7th St SW                               Subscriber\n",
       "6 Eastern Market Metro / Pennsylvania Ave & 7th St SE Subscriber"
      ]
     },
     "metadata": {},
     "output_type": "display_data"
    }
   ],
   "source": [
    "head(wash)"
   ]
  },
  {
   "cell_type": "code",
   "execution_count": 4,
   "metadata": {},
   "outputs": [
    {
     "data": {
      "text/html": [
       "<table>\n",
       "<thead><tr><th scope=col>X</th><th scope=col>Start.Time</th><th scope=col>End.Time</th><th scope=col>Trip.Duration</th><th scope=col>Start.Station</th><th scope=col>End.Station</th><th scope=col>User.Type</th><th scope=col>Gender</th><th scope=col>Birth.Year</th></tr></thead>\n",
       "<tbody>\n",
       "\t<tr><td>1423854                                                                  </td><td>2017-06-23 15:09:32                                                      </td><td>2017-06-23 15:14:53                                                      </td><td> 321                                                                     </td><td><span style=white-space:pre-wrap>Wood St &amp; Hubbard St         </span></td><td><span style=white-space:pre-wrap>Damen Ave &amp; Chicago Ave     </span> </td><td>Subscriber                                                               </td><td><span style=white-space:pre-wrap>Male  </span>                           </td><td>1992                                                                     </td></tr>\n",
       "\t<tr><td> 955915                                                              </td><td>2017-05-25 18:19:03                                                  </td><td>2017-05-25 18:45:53                                                  </td><td>1610                                                                 </td><td><span style=white-space:pre-wrap>Theater on the Lake          </span></td><td>Sheffield Ave &amp; Waveland Ave                                     </td><td>Subscriber                                                           </td><td>Female                                                               </td><td>1992                                                                 </td></tr>\n",
       "\t<tr><td><span style=white-space:pre-wrap>   9031</span>                          </td><td>2017-01-04 08:27:49                                                      </td><td>2017-01-04 08:34:45                                                      </td><td> 416                                                                     </td><td><span style=white-space:pre-wrap>May St &amp; Taylor St           </span></td><td><span style=white-space:pre-wrap>Wood St &amp; Taylor St         </span> </td><td>Subscriber                                                               </td><td><span style=white-space:pre-wrap>Male  </span>                           </td><td>1981                                                                     </td></tr>\n",
       "\t<tr><td> 304487                                       </td><td>2017-03-06 13:49:38                           </td><td>2017-03-06 13:55:28                           </td><td> 350                                          </td><td>Christiana Ave &amp; Lawrence Ave             </td><td>St. Louis Ave &amp; Balmoral Ave              </td><td>Subscriber                                    </td><td><span style=white-space:pre-wrap>Male  </span></td><td>1986                                          </td></tr>\n",
       "\t<tr><td><span style=white-space:pre-wrap>  45207</span>                          </td><td>2017-01-17 14:53:07                                                      </td><td>2017-01-17 15:02:01                                                      </td><td> 534                                                                     </td><td><span style=white-space:pre-wrap>Clark St &amp; Randolph St       </span></td><td>Desplaines St &amp; Jackson Blvd                                         </td><td>Subscriber                                                               </td><td><span style=white-space:pre-wrap>Male  </span>                           </td><td>1975                                                                     </td></tr>\n",
       "\t<tr><td>1473887                                                                 </td><td>2017-06-26 09:01:20                                                     </td><td>2017-06-26 09:11:06                                                     </td><td> 586                                                                    </td><td>Clinton St &amp; Washington Blvd                                        </td><td><span style=white-space:pre-wrap>Canal St &amp; Taylor St        </span></td><td>Subscriber                                                              </td><td><span style=white-space:pre-wrap>Male  </span>                          </td><td>1990                                                                    </td></tr>\n",
       "</tbody>\n",
       "</table>\n"
      ],
      "text/latex": [
       "\\begin{tabular}{r|lllllllll}\n",
       " X & Start.Time & End.Time & Trip.Duration & Start.Station & End.Station & User.Type & Gender & Birth.Year\\\\\n",
       "\\hline\n",
       "\t 1423854                         & 2017-06-23 15:09:32             & 2017-06-23 15:14:53             &  321                            & Wood St \\& Hubbard St          & Damen Ave \\& Chicago Ave       & Subscriber                      & Male                            & 1992                           \\\\\n",
       "\t  955915                        & 2017-05-25 18:19:03            & 2017-05-25 18:45:53            & 1610                           & Theater on the Lake            & Sheffield Ave \\& Waveland Ave & Subscriber                     & Female                         & 1992                          \\\\\n",
       "\t    9031                         & 2017-01-04 08:27:49             & 2017-01-04 08:34:45             &  416                            & May St \\& Taylor St            & Wood St \\& Taylor St           & Subscriber                      & Male                            & 1981                           \\\\\n",
       "\t  304487                         & 2017-03-06 13:49:38             & 2017-03-06 13:55:28             &  350                            & Christiana Ave \\& Lawrence Ave & St. Louis Ave \\& Balmoral Ave  & Subscriber                      & Male                            & 1986                           \\\\\n",
       "\t   45207                         & 2017-01-17 14:53:07             & 2017-01-17 15:02:01             &  534                            & Clark St \\& Randolph St        & Desplaines St \\& Jackson Blvd  & Subscriber                      & Male                            & 1975                           \\\\\n",
       "\t 1473887                         & 2017-06-26 09:01:20             & 2017-06-26 09:11:06             &  586                            & Clinton St \\& Washington Blvd  & Canal St \\& Taylor St          & Subscriber                      & Male                            & 1990                           \\\\\n",
       "\\end{tabular}\n"
      ],
      "text/markdown": [
       "\n",
       "| X | Start.Time | End.Time | Trip.Duration | Start.Station | End.Station | User.Type | Gender | Birth.Year |\n",
       "|---|---|---|---|---|---|---|---|---|\n",
       "| 1423854                       | 2017-06-23 15:09:32           | 2017-06-23 15:14:53           |  321                          | Wood St & Hubbard St          | Damen Ave & Chicago Ave       | Subscriber                    | Male                          | 1992                          |\n",
       "|  955915                       | 2017-05-25 18:19:03           | 2017-05-25 18:45:53           | 1610                          | Theater on the Lake           | Sheffield Ave & Waveland Ave  | Subscriber                    | Female                        | 1992                          |\n",
       "|    9031                       | 2017-01-04 08:27:49           | 2017-01-04 08:34:45           |  416                          | May St & Taylor St            | Wood St & Taylor St           | Subscriber                    | Male                          | 1981                          |\n",
       "|  304487                       | 2017-03-06 13:49:38           | 2017-03-06 13:55:28           |  350                          | Christiana Ave & Lawrence Ave | St. Louis Ave & Balmoral Ave  | Subscriber                    | Male                          | 1986                          |\n",
       "|   45207                       | 2017-01-17 14:53:07           | 2017-01-17 15:02:01           |  534                          | Clark St & Randolph St        | Desplaines St & Jackson Blvd  | Subscriber                    | Male                          | 1975                          |\n",
       "| 1473887                       | 2017-06-26 09:01:20           | 2017-06-26 09:11:06           |  586                          | Clinton St & Washington Blvd  | Canal St & Taylor St          | Subscriber                    | Male                          | 1990                          |\n",
       "\n"
      ],
      "text/plain": [
       "  X       Start.Time          End.Time            Trip.Duration\n",
       "1 1423854 2017-06-23 15:09:32 2017-06-23 15:14:53  321         \n",
       "2  955915 2017-05-25 18:19:03 2017-05-25 18:45:53 1610         \n",
       "3    9031 2017-01-04 08:27:49 2017-01-04 08:34:45  416         \n",
       "4  304487 2017-03-06 13:49:38 2017-03-06 13:55:28  350         \n",
       "5   45207 2017-01-17 14:53:07 2017-01-17 15:02:01  534         \n",
       "6 1473887 2017-06-26 09:01:20 2017-06-26 09:11:06  586         \n",
       "  Start.Station                 End.Station                  User.Type  Gender\n",
       "1 Wood St & Hubbard St          Damen Ave & Chicago Ave      Subscriber Male  \n",
       "2 Theater on the Lake           Sheffield Ave & Waveland Ave Subscriber Female\n",
       "3 May St & Taylor St            Wood St & Taylor St          Subscriber Male  \n",
       "4 Christiana Ave & Lawrence Ave St. Louis Ave & Balmoral Ave Subscriber Male  \n",
       "5 Clark St & Randolph St        Desplaines St & Jackson Blvd Subscriber Male  \n",
       "6 Clinton St & Washington Blvd  Canal St & Taylor St         Subscriber Male  \n",
       "  Birth.Year\n",
       "1 1992      \n",
       "2 1992      \n",
       "3 1981      \n",
       "4 1986      \n",
       "5 1975      \n",
       "6 1990      "
      ]
     },
     "metadata": {},
     "output_type": "display_data"
    }
   ],
   "source": [
    "head(chi)"
   ]
  },
  {
   "cell_type": "code",
   "execution_count": 5,
   "metadata": {},
   "outputs": [
    {
     "data": {
      "text/html": [
       "<ol class=list-inline>\n",
       "\t<li>54770</li>\n",
       "\t<li>9</li>\n",
       "</ol>\n"
      ],
      "text/latex": [
       "\\begin{enumerate*}\n",
       "\\item 54770\n",
       "\\item 9\n",
       "\\end{enumerate*}\n"
      ],
      "text/markdown": [
       "1. 54770\n",
       "2. 9\n",
       "\n",
       "\n"
      ],
      "text/plain": [
       "[1] 54770     9"
      ]
     },
     "metadata": {},
     "output_type": "display_data"
    }
   ],
   "source": [
    "# Dimension of dataset\n",
    "\n",
    "dim(ny)"
   ]
  },
  {
   "cell_type": "code",
   "execution_count": 6,
   "metadata": {},
   "outputs": [
    {
     "data": {
      "text/html": [
       "<ol class=list-inline>\n",
       "\t<li>89051</li>\n",
       "\t<li>7</li>\n",
       "</ol>\n"
      ],
      "text/latex": [
       "\\begin{enumerate*}\n",
       "\\item 89051\n",
       "\\item 7\n",
       "\\end{enumerate*}\n"
      ],
      "text/markdown": [
       "1. 89051\n",
       "2. 7\n",
       "\n",
       "\n"
      ],
      "text/plain": [
       "[1] 89051     7"
      ]
     },
     "metadata": {},
     "output_type": "display_data"
    }
   ],
   "source": [
    "dim(wash)"
   ]
  },
  {
   "cell_type": "code",
   "execution_count": 7,
   "metadata": {},
   "outputs": [
    {
     "data": {
      "text/html": [
       "<ol class=list-inline>\n",
       "\t<li>8630</li>\n",
       "\t<li>9</li>\n",
       "</ol>\n"
      ],
      "text/latex": [
       "\\begin{enumerate*}\n",
       "\\item 8630\n",
       "\\item 9\n",
       "\\end{enumerate*}\n"
      ],
      "text/markdown": [
       "1. 8630\n",
       "2. 9\n",
       "\n",
       "\n"
      ],
      "text/plain": [
       "[1] 8630    9"
      ]
     },
     "metadata": {},
     "output_type": "display_data"
    }
   ],
   "source": [
    "dim(chi)"
   ]
  },
  {
   "cell_type": "code",
   "execution_count": 8,
   "metadata": {},
   "outputs": [
    {
     "data": {
      "text/plain": [
       "       X                         Start.Time                   End.Time    \n",
       " Min.   :     47   2017-05-11 18:26:10:    3   2017-01-03 08:54:10:    2  \n",
       " 1st Qu.:1712425   2017-01-04 13:58:24:    2   2017-01-04 17:21:55:    2  \n",
       " Median :3418634   2017-01-09 09:36:01:    2   2017-01-05 17:25:17:    2  \n",
       " Mean   :3415873   2017-01-21 15:36:56:    2   2017-01-12 08:34:01:    2  \n",
       " 3rd Qu.:5123382   2017-01-21 17:49:59:    2   2017-01-12 09:41:54:    2  \n",
       " Max.   :6816152   2017-01-21 20:08:29:    2   2017-01-12 20:34:42:    2  \n",
       "                   (Other)            :54757   (Other)            :54758  \n",
       " Trip.Duration                     Start.Station  \n",
       " Min.   :     61.0   Pershing Square North:  592  \n",
       " 1st Qu.:    368.0   W 21 St & 6 Ave      :  385  \n",
       " Median :    610.0   Broadway & E 22 St   :  383  \n",
       " Mean   :    903.6   E 17 St & Broadway   :  380  \n",
       " 3rd Qu.:   1051.0   West St & Chambers St:  364  \n",
       " Max.   :1088634.0   W 20 St & 11 Ave     :  329  \n",
       " NA's   :1           (Other)              :52337  \n",
       "                End.Station         User.Type        Gender        Birth.Year  \n",
       " Pershing Square North:  556             :  119         : 5410   Min.   :1885  \n",
       " E 17 St & Broadway   :  445   Customer  : 5558   Female:12159   1st Qu.:1970  \n",
       " Broadway & E 22 St   :  427   Subscriber:49093   Male  :37201   Median :1981  \n",
       " W 21 St & 6 Ave      :  365                                     Mean   :1978  \n",
       " W 20 St & 11 Ave     :  344                                     3rd Qu.:1988  \n",
       " W 38 St & 8 Ave      :  338                                     Max.   :2001  \n",
       " (Other)              :52295                                     NA's   :5218  "
      ]
     },
     "metadata": {},
     "output_type": "display_data"
    }
   ],
   "source": [
    "# Summary of the data\n",
    "\n",
    "summary(ny)"
   ]
  },
  {
   "cell_type": "code",
   "execution_count": 9,
   "metadata": {},
   "outputs": [
    {
     "data": {
      "text/plain": [
       "       X                         Start.Time                   End.Time    \n",
       " Min.   :      7   2017-02-19 12:19:00:    6   2017-03-09 17:54:00:    7  \n",
       " 1st Qu.: 434587   2017-02-20 11:35:00:    6   2017-03-28 18:11:00:    7  \n",
       " Median : 872858   2017-02-24 17:46:00:    6   2017-01-13 17:48:00:    6  \n",
       " Mean   : 873881   2017-03-01 08:20:00:    6   2017-01-31 08:49:00:    6  \n",
       " 3rd Qu.:1313305   2017-03-02 08:39:00:    6   2017-02-13 18:09:00:    6  \n",
       " Max.   :1751392   2017-03-09 17:31:00:    6   2017-02-20 11:38:00:    6  \n",
       "                   (Other)            :89015   (Other)            :89013  \n",
       " Trip.Duration                                   Start.Station  \n",
       " Min.   :    60.3   Columbus Circle / Union Station     : 1700  \n",
       " 1st Qu.:   410.9   Lincoln Memorial                    : 1546  \n",
       " Median :   707.0   Jefferson Dr & 14th St SW           : 1488  \n",
       " Mean   :  1234.0   Massachusetts Ave & Dupont Circle NW: 1219  \n",
       " 3rd Qu.:  1233.2   Jefferson Memorial                  : 1068  \n",
       " Max.   :904591.4   15th & P St NW                      : 1040  \n",
       " NA's   :1          (Other)                             :80990  \n",
       "                                                End.Station   \n",
       " Columbus Circle / Union Station                      : 1767  \n",
       " Jefferson Dr & 14th St SW                            : 1603  \n",
       " Lincoln Memorial                                     : 1514  \n",
       " Massachusetts Ave & Dupont Circle NW                 : 1344  \n",
       " Smithsonian-National Mall / Jefferson Dr & 12th St SW: 1103  \n",
       " 15th & P St NW                                       : 1077  \n",
       " (Other)                                              :80643  \n",
       "      User.Type    \n",
       "           :    1  \n",
       " Customer  :23450  \n",
       " Subscriber:65600  \n",
       "                   \n",
       "                   \n",
       "                   \n",
       "                   "
      ]
     },
     "metadata": {},
     "output_type": "display_data"
    }
   ],
   "source": [
    "summary(wash)"
   ]
  },
  {
   "cell_type": "code",
   "execution_count": 10,
   "metadata": {},
   "outputs": [
    {
     "data": {
      "text/plain": [
       "       X                         Start.Time                  End.Time   \n",
       " Min.   :     36   2017-01-24 07:40:32:   2   2017-04-16 13:16:52:   2  \n",
       " 1st Qu.: 386722   2017-04-22 13:16:25:   2   2017-04-26 16:29:26:   2  \n",
       " Median : 773554   2017-05-27 15:17:50:   2   2017-05-21 16:20:56:   2  \n",
       " Mean   : 776721   2017-06-10 13:29:41:   2   2017-05-27 09:58:21:   2  \n",
       " 3rd Qu.:1171266   2017-06-20 17:05:11:   2   2017-06-25 14:51:35:   2  \n",
       " Max.   :1551248   2017-06-21 13:18:52:   2   2017-01-01 00:46:32:   1  \n",
       "                   (Other)            :8618   (Other)            :8619  \n",
       " Trip.Duration                          Start.Station \n",
       " Min.   :   60.0   Streeter Dr & Grand Ave     : 210  \n",
       " 1st Qu.:  394.2   Lake Shore Dr & Monroe St   : 140  \n",
       " Median :  670.0   Clinton St & Washington Blvd: 120  \n",
       " Mean   :  937.2   Clinton St & Madison St     : 102  \n",
       " 3rd Qu.: 1119.0   Canal St & Adams St         : 101  \n",
       " Max.   :85408.0   Michigan Ave & Oak St       :  98  \n",
       "                   (Other)                     :7859  \n",
       "                       End.Station        User.Type       Gender    \n",
       " Streeter Dr & Grand Ave     : 233             :   1         :1748  \n",
       " Clinton St & Madison St     : 145   Customer  :1746   Female:1723  \n",
       " Theater on the Lake         : 131   Subscriber:6883   Male  :5159  \n",
       " Lake Shore Dr & Monroe St   : 115                                  \n",
       " Clinton St & Washington Blvd: 109                                  \n",
       " Lake Shore Dr & North Blvd  : 102                                  \n",
       " (Other)                     :7795                                  \n",
       "   Birth.Year  \n",
       " Min.   :1899  \n",
       " 1st Qu.:1975  \n",
       " Median :1984  \n",
       " Mean   :1981  \n",
       " 3rd Qu.:1989  \n",
       " Max.   :2002  \n",
       " NA's   :1747  "
      ]
     },
     "metadata": {},
     "output_type": "display_data"
    }
   ],
   "source": [
    "summary(chi)"
   ]
  },
  {
   "cell_type": "code",
   "execution_count": 11,
   "metadata": {},
   "outputs": [
    {
     "name": "stdout",
     "output_type": "stream",
     "text": [
      "'data.frame':\t54770 obs. of  9 variables:\n",
      " $ X            : int  5688089 4096714 2173887 3945638 6208972 1285652 1675753 1692245 2271331 1558339 ...\n",
      " $ Start.Time   : Factor w/ 54568 levels \"2017-01-01 00:17:01\",..: 45448 32799 17316 31589 49688 10220 13390 13509 18111 12449 ...\n",
      " $ End.Time     : Factor w/ 54562 levels \"201\",\"2017-01-01 00:30:56\",..: 45432 32783 17295 31567 49668 10204 13364 13505 18092 12422 ...\n",
      " $ Trip.Duration: int  795 692 1325 703 329 998 478 4038 5132 309 ...\n",
      " $ Start.Station: Factor w/ 636 levels \"\",\"1 Ave & E 16 St\",..: 522 406 10 93 5 521 325 309 151 245 ...\n",
      " $ End.Station  : Factor w/ 638 levels \"\",\"1 Ave & E 16 St\",..: 613 8 362 558 269 107 389 110 151 243 ...\n",
      " $ User.Type    : Factor w/ 3 levels \"\",\"Customer\",..: 3 3 3 3 3 3 3 3 2 3 ...\n",
      " $ Gender       : Factor w/ 3 levels \"\",\"Female\",\"Male\": 3 3 3 2 3 3 3 3 1 3 ...\n",
      " $ Birth.Year   : num  1998 1981 1987 1986 1992 ...\n"
     ]
    }
   ],
   "source": [
    "# Structure of data\n",
    "\n",
    "str(ny)"
   ]
  },
  {
   "cell_type": "code",
   "execution_count": 12,
   "metadata": {},
   "outputs": [
    {
     "data": {
      "text/html": [
       "<table>\n",
       "<thead><tr><th></th><th scope=col>missing_val_NY</th></tr></thead>\n",
       "<tbody>\n",
       "\t<tr><th scope=row>X</th><td>   0</td></tr>\n",
       "\t<tr><th scope=row>Start.Time</th><td>   0</td></tr>\n",
       "\t<tr><th scope=row>End.Time</th><td>   0</td></tr>\n",
       "\t<tr><th scope=row>Trip.Duration</th><td>   1</td></tr>\n",
       "\t<tr><th scope=row>Start.Station</th><td>   0</td></tr>\n",
       "\t<tr><th scope=row>End.Station</th><td>   0</td></tr>\n",
       "\t<tr><th scope=row>User.Type</th><td>   0</td></tr>\n",
       "\t<tr><th scope=row>Gender</th><td>   0</td></tr>\n",
       "\t<tr><th scope=row>Birth.Year</th><td>5218</td></tr>\n",
       "</tbody>\n",
       "</table>\n"
      ],
      "text/latex": [
       "\\begin{tabular}{r|l}\n",
       "  & missing\\_val\\_NY\\\\\n",
       "\\hline\n",
       "\tX &    0\\\\\n",
       "\tStart.Time &    0\\\\\n",
       "\tEnd.Time &    0\\\\\n",
       "\tTrip.Duration &    1\\\\\n",
       "\tStart.Station &    0\\\\\n",
       "\tEnd.Station &    0\\\\\n",
       "\tUser.Type &    0\\\\\n",
       "\tGender &    0\\\\\n",
       "\tBirth.Year & 5218\\\\\n",
       "\\end{tabular}\n"
      ],
      "text/markdown": [
       "\n",
       "| <!--/--> | missing_val_NY |\n",
       "|---|---|\n",
       "| X |    0 |\n",
       "| Start.Time |    0 |\n",
       "| End.Time |    0 |\n",
       "| Trip.Duration |    1 |\n",
       "| Start.Station |    0 |\n",
       "| End.Station |    0 |\n",
       "| User.Type |    0 |\n",
       "| Gender |    0 |\n",
       "| Birth.Year | 5218 |\n",
       "\n"
      ],
      "text/plain": [
       "              missing_val_NY\n",
       "X                0          \n",
       "Start.Time       0          \n",
       "End.Time         0          \n",
       "Trip.Duration    1          \n",
       "Start.Station    0          \n",
       "End.Station      0          \n",
       "User.Type        0          \n",
       "Gender           0          \n",
       "Birth.Year    5218          "
      ]
     },
     "metadata": {},
     "output_type": "display_data"
    }
   ],
   "source": [
    "# Checking for missing values in data\n",
    "\n",
    "missing_val_NY<-data.frame(apply(ny,2,function(x){sum(is.na(x))}))\n",
    "names(missing_val_NY)[1]='missing_val_NY'\n",
    "missing_val_NY\n"
   ]
  },
  {
   "cell_type": "code",
   "execution_count": 13,
   "metadata": {},
   "outputs": [
    {
     "data": {
      "text/html": [
       "<table>\n",
       "<thead><tr><th></th><th scope=col>missing_val_wash</th></tr></thead>\n",
       "<tbody>\n",
       "\t<tr><th scope=row>X</th><td>0</td></tr>\n",
       "\t<tr><th scope=row>Start.Time</th><td>0</td></tr>\n",
       "\t<tr><th scope=row>End.Time</th><td>0</td></tr>\n",
       "\t<tr><th scope=row>Trip.Duration</th><td>1</td></tr>\n",
       "\t<tr><th scope=row>Start.Station</th><td>0</td></tr>\n",
       "\t<tr><th scope=row>End.Station</th><td>0</td></tr>\n",
       "\t<tr><th scope=row>User.Type</th><td>0</td></tr>\n",
       "</tbody>\n",
       "</table>\n"
      ],
      "text/latex": [
       "\\begin{tabular}{r|l}\n",
       "  & missing\\_val\\_wash\\\\\n",
       "\\hline\n",
       "\tX & 0\\\\\n",
       "\tStart.Time & 0\\\\\n",
       "\tEnd.Time & 0\\\\\n",
       "\tTrip.Duration & 1\\\\\n",
       "\tStart.Station & 0\\\\\n",
       "\tEnd.Station & 0\\\\\n",
       "\tUser.Type & 0\\\\\n",
       "\\end{tabular}\n"
      ],
      "text/markdown": [
       "\n",
       "| <!--/--> | missing_val_wash |\n",
       "|---|---|\n",
       "| X | 0 |\n",
       "| Start.Time | 0 |\n",
       "| End.Time | 0 |\n",
       "| Trip.Duration | 1 |\n",
       "| Start.Station | 0 |\n",
       "| End.Station | 0 |\n",
       "| User.Type | 0 |\n",
       "\n"
      ],
      "text/plain": [
       "              missing_val_wash\n",
       "X             0               \n",
       "Start.Time    0               \n",
       "End.Time      0               \n",
       "Trip.Duration 1               \n",
       "Start.Station 0               \n",
       "End.Station   0               \n",
       "User.Type     0               "
      ]
     },
     "metadata": {},
     "output_type": "display_data"
    }
   ],
   "source": [
    "missing_val_wash<-data.frame(apply(wash,2,function(x){sum(is.na(x))}))\n",
    "names(missing_val_wash)[1]='missing_val_wash'\n",
    "missing_val_wash\n"
   ]
  },
  {
   "cell_type": "code",
   "execution_count": 14,
   "metadata": {},
   "outputs": [
    {
     "data": {
      "text/html": [
       "<table>\n",
       "<thead><tr><th></th><th scope=col>missing_val_chi</th></tr></thead>\n",
       "<tbody>\n",
       "\t<tr><th scope=row>X</th><td>   0</td></tr>\n",
       "\t<tr><th scope=row>Start.Time</th><td>   0</td></tr>\n",
       "\t<tr><th scope=row>End.Time</th><td>   0</td></tr>\n",
       "\t<tr><th scope=row>Trip.Duration</th><td>   0</td></tr>\n",
       "\t<tr><th scope=row>Start.Station</th><td>   0</td></tr>\n",
       "\t<tr><th scope=row>End.Station</th><td>   0</td></tr>\n",
       "\t<tr><th scope=row>User.Type</th><td>   0</td></tr>\n",
       "\t<tr><th scope=row>Gender</th><td>   0</td></tr>\n",
       "\t<tr><th scope=row>Birth.Year</th><td>1747</td></tr>\n",
       "</tbody>\n",
       "</table>\n"
      ],
      "text/latex": [
       "\\begin{tabular}{r|l}\n",
       "  & missing\\_val\\_chi\\\\\n",
       "\\hline\n",
       "\tX &    0\\\\\n",
       "\tStart.Time &    0\\\\\n",
       "\tEnd.Time &    0\\\\\n",
       "\tTrip.Duration &    0\\\\\n",
       "\tStart.Station &    0\\\\\n",
       "\tEnd.Station &    0\\\\\n",
       "\tUser.Type &    0\\\\\n",
       "\tGender &    0\\\\\n",
       "\tBirth.Year & 1747\\\\\n",
       "\\end{tabular}\n"
      ],
      "text/markdown": [
       "\n",
       "| <!--/--> | missing_val_chi |\n",
       "|---|---|\n",
       "| X |    0 |\n",
       "| Start.Time |    0 |\n",
       "| End.Time |    0 |\n",
       "| Trip.Duration |    0 |\n",
       "| Start.Station |    0 |\n",
       "| End.Station |    0 |\n",
       "| User.Type |    0 |\n",
       "| Gender |    0 |\n",
       "| Birth.Year | 1747 |\n",
       "\n"
      ],
      "text/plain": [
       "              missing_val_chi\n",
       "X                0           \n",
       "Start.Time       0           \n",
       "End.Time         0           \n",
       "Trip.Duration    0           \n",
       "Start.Station    0           \n",
       "End.Station      0           \n",
       "User.Type        0           \n",
       "Gender           0           \n",
       "Birth.Year    1747           "
      ]
     },
     "metadata": {},
     "output_type": "display_data"
    }
   ],
   "source": [
    "missing_val_chi<-data.frame(apply(chi,2,function(x){sum(is.na(x))}))\n",
    "names(missing_val_chi)[1]='missing_val_chi'\n",
    "missing_val_chi"
   ]
  },
  {
   "cell_type": "code",
   "execution_count": 15,
   "metadata": {},
   "outputs": [],
   "source": [
    "# Creating a new column 'City' to each dataset for accurate analysis \n",
    "\n",
    "wash$City <- 'Washington'\n",
    "ny$City <- 'New York City'\n",
    "chi$City <- 'Chicago'"
   ]
  },
  {
   "cell_type": "code",
   "execution_count": 16,
   "metadata": {
    "scrolled": true
   },
   "outputs": [],
   "source": [
    "# Unlike the NY and Chi data, Wash doesn't have any info regarding gender and birth year. \n",
    "# For better analysis, I'm creating a new column of Gender and Birth Year for Wash.  \n",
    "\n",
    "wash$Gender <- NA\n",
    "wash$Birth.Year <-NA"
   ]
  },
  {
   "cell_type": "code",
   "execution_count": 17,
   "metadata": {},
   "outputs": [],
   "source": [
    "# Uniting all three data into one for better comparison \n",
    "\n",
    "union_data <- function(d1, d2) {\n",
    "  return(rbind(d1, d2))\n",
    "}\n"
   ]
  },
  {
   "cell_type": "code",
   "execution_count": 91,
   "metadata": {},
   "outputs": [
    {
     "data": {
      "text/html": [
       "<table>\n",
       "<thead><tr><th scope=col>X</th><th scope=col>Start.Time</th><th scope=col>End.Time</th><th scope=col>Trip.Duration</th><th scope=col>Start.Station</th><th scope=col>End.Station</th><th scope=col>User.Type</th><th scope=col>City</th><th scope=col>Gender</th><th scope=col>Birth.Year</th></tr></thead>\n",
       "<tbody>\n",
       "\t<tr><td>1621326                                                                                        </td><td>2017-06-21 08:36:34                                                                            </td><td>2017-06-21 08:44:43                                                                            </td><td> 489.066                                                                                       </td><td><span style=white-space:pre-wrap>14th &amp; Belmont St NW                       </span>        </td><td><span style=white-space:pre-wrap>15th &amp; K St NW                                     </span></td><td>Subscriber                                                                                     </td><td>Washington                                                                                     </td><td>NA                                                                                             </td><td>NA                                                                                             </td></tr>\n",
       "\t<tr><td> 482740                                                                                        </td><td>2017-03-11 10:40:00                                                                            </td><td>2017-03-11 10:46:00                                                                            </td><td> 402.549                                                                                       </td><td><span style=white-space:pre-wrap>Yuma St &amp; Tenley Circle NW                 </span>        </td><td><span style=white-space:pre-wrap>Connecticut Ave &amp; Yuma St NW                       </span></td><td>Subscriber                                                                                     </td><td>Washington                                                                                     </td><td>NA                                                                                             </td><td>NA                                                                                             </td></tr>\n",
       "\t<tr><td>1330037                                                                                        </td><td>2017-05-30 01:02:59                                                                            </td><td>2017-05-30 01:13:37                                                                            </td><td> 637.251                                                                                       </td><td><span style=white-space:pre-wrap>17th St &amp; Massachusetts Ave NW             </span>        </td><td><span style=white-space:pre-wrap>5th &amp; K St NW                                      </span></td><td>Subscriber                                                                                     </td><td>Washington                                                                                     </td><td>NA                                                                                             </td><td>NA                                                                                             </td></tr>\n",
       "\t<tr><td> 665458                                                                                        </td><td>2017-04-02 07:48:35                                                                            </td><td>2017-04-02 08:19:03                                                                            </td><td>1827.341                                                                                       </td><td><span style=white-space:pre-wrap>Constitution Ave &amp; 2nd St NW/DOL           </span>        </td><td><span style=white-space:pre-wrap>M St &amp; Pennsylvania Ave NW                         </span></td><td><span style=white-space:pre-wrap>Customer  </span>                                             </td><td>Washington                                                                                     </td><td>NA                                                                                             </td><td>NA                                                                                             </td></tr>\n",
       "\t<tr><td>1481135                                                                                        </td><td>2017-06-10 08:36:28                                                                            </td><td>2017-06-10 09:02:17                                                                            </td><td>1549.427                                                                                       </td><td>Henry Bacon Dr &amp; Lincoln Memorial Circle NW                                                </td><td><span style=white-space:pre-wrap>Maine Ave &amp; 7th St SW                              </span></td><td>Subscriber                                                                                     </td><td>Washington                                                                                     </td><td>NA                                                                                             </td><td>NA                                                                                             </td></tr>\n",
       "\t<tr><td>1148202                                                                                </td><td>2017-05-14 07:18:18                                                                    </td><td>2017-05-14 07:24:56                                                                    </td><td> 398.000                                                                               </td><td><span style=white-space:pre-wrap>1st &amp; K St SE                              </span></td><td>Eastern Market Metro / Pennsylvania Ave &amp; 7th St SE                                </td><td>Subscriber                                                                             </td><td>Washington                                                                             </td><td>NA                                                                                     </td><td>NA                                                                                     </td></tr>\n",
       "</tbody>\n",
       "</table>\n"
      ],
      "text/latex": [
       "\\begin{tabular}{r|llllllllll}\n",
       " X & Start.Time & End.Time & Trip.Duration & Start.Station & End.Station & User.Type & City & Gender & Birth.Year\\\\\n",
       "\\hline\n",
       "\t 1621326                                               & 2017-06-21 08:36:34                                   & 2017-06-21 08:44:43                                   &  489.066                                              & 14th \\& Belmont St NW                                & 15th \\& K St NW                                      & Subscriber                                            & Washington                                            & NA                                                    & NA                                                   \\\\\n",
       "\t  482740                                               & 2017-03-11 10:40:00                                   & 2017-03-11 10:46:00                                   &  402.549                                              & Yuma St \\& Tenley Circle NW                          & Connecticut Ave \\& Yuma St NW                        & Subscriber                                            & Washington                                            & NA                                                    & NA                                                   \\\\\n",
       "\t 1330037                                               & 2017-05-30 01:02:59                                   & 2017-05-30 01:13:37                                   &  637.251                                              & 17th St \\& Massachusetts Ave NW                      & 5th \\& K St NW                                       & Subscriber                                            & Washington                                            & NA                                                    & NA                                                   \\\\\n",
       "\t  665458                                               & 2017-04-02 07:48:35                                   & 2017-04-02 08:19:03                                   & 1827.341                                              & Constitution Ave \\& 2nd St NW/DOL                    & M St \\& Pennsylvania Ave NW                          & Customer                                              & Washington                                            & NA                                                    & NA                                                   \\\\\n",
       "\t 1481135                                               & 2017-06-10 08:36:28                                   & 2017-06-10 09:02:17                                   & 1549.427                                              & Henry Bacon Dr \\& Lincoln Memorial Circle NW         & Maine Ave \\& 7th St SW                               & Subscriber                                            & Washington                                            & NA                                                    & NA                                                   \\\\\n",
       "\t 1148202                                               & 2017-05-14 07:18:18                                   & 2017-05-14 07:24:56                                   &  398.000                                              & 1st \\& K St SE                                       & Eastern Market Metro / Pennsylvania Ave \\& 7th St SE & Subscriber                                            & Washington                                            & NA                                                    & NA                                                   \\\\\n",
       "\\end{tabular}\n"
      ],
      "text/markdown": [
       "\n",
       "| X | Start.Time | End.Time | Trip.Duration | Start.Station | End.Station | User.Type | City | Gender | Birth.Year |\n",
       "|---|---|---|---|---|---|---|---|---|---|\n",
       "| 1621326                                             | 2017-06-21 08:36:34                                 | 2017-06-21 08:44:43                                 |  489.066                                            | 14th & Belmont St NW                                | 15th & K St NW                                      | Subscriber                                          | Washington                                          | NA                                                  | NA                                                  |\n",
       "|  482740                                             | 2017-03-11 10:40:00                                 | 2017-03-11 10:46:00                                 |  402.549                                            | Yuma St & Tenley Circle NW                          | Connecticut Ave & Yuma St NW                        | Subscriber                                          | Washington                                          | NA                                                  | NA                                                  |\n",
       "| 1330037                                             | 2017-05-30 01:02:59                                 | 2017-05-30 01:13:37                                 |  637.251                                            | 17th St & Massachusetts Ave NW                      | 5th & K St NW                                       | Subscriber                                          | Washington                                          | NA                                                  | NA                                                  |\n",
       "|  665458                                             | 2017-04-02 07:48:35                                 | 2017-04-02 08:19:03                                 | 1827.341                                            | Constitution Ave & 2nd St NW/DOL                    | M St & Pennsylvania Ave NW                          | Customer                                            | Washington                                          | NA                                                  | NA                                                  |\n",
       "| 1481135                                             | 2017-06-10 08:36:28                                 | 2017-06-10 09:02:17                                 | 1549.427                                            | Henry Bacon Dr & Lincoln Memorial Circle NW         | Maine Ave & 7th St SW                               | Subscriber                                          | Washington                                          | NA                                                  | NA                                                  |\n",
       "| 1148202                                             | 2017-05-14 07:18:18                                 | 2017-05-14 07:24:56                                 |  398.000                                            | 1st & K St SE                                       | Eastern Market Metro / Pennsylvania Ave & 7th St SE | Subscriber                                          | Washington                                          | NA                                                  | NA                                                  |\n",
       "\n"
      ],
      "text/plain": [
       "  X       Start.Time          End.Time            Trip.Duration\n",
       "1 1621326 2017-06-21 08:36:34 2017-06-21 08:44:43  489.066     \n",
       "2  482740 2017-03-11 10:40:00 2017-03-11 10:46:00  402.549     \n",
       "3 1330037 2017-05-30 01:02:59 2017-05-30 01:13:37  637.251     \n",
       "4  665458 2017-04-02 07:48:35 2017-04-02 08:19:03 1827.341     \n",
       "5 1481135 2017-06-10 08:36:28 2017-06-10 09:02:17 1549.427     \n",
       "6 1148202 2017-05-14 07:18:18 2017-05-14 07:24:56  398.000     \n",
       "  Start.Station                              \n",
       "1 14th & Belmont St NW                       \n",
       "2 Yuma St & Tenley Circle NW                 \n",
       "3 17th St & Massachusetts Ave NW             \n",
       "4 Constitution Ave & 2nd St NW/DOL           \n",
       "5 Henry Bacon Dr & Lincoln Memorial Circle NW\n",
       "6 1st & K St SE                              \n",
       "  End.Station                                         User.Type  City      \n",
       "1 15th & K St NW                                      Subscriber Washington\n",
       "2 Connecticut Ave & Yuma St NW                        Subscriber Washington\n",
       "3 5th & K St NW                                       Subscriber Washington\n",
       "4 M St & Pennsylvania Ave NW                          Customer   Washington\n",
       "5 Maine Ave & 7th St SW                               Subscriber Washington\n",
       "6 Eastern Market Metro / Pennsylvania Ave & 7th St SE Subscriber Washington\n",
       "  Gender Birth.Year\n",
       "1 NA     NA        \n",
       "2 NA     NA        \n",
       "3 NA     NA        \n",
       "4 NA     NA        \n",
       "5 NA     NA        \n",
       "6 NA     NA        "
      ]
     },
     "metadata": {},
     "output_type": "display_data"
    }
   ],
   "source": [
    "# Reformatting the data by city \n",
    "\n",
    "city <- union_data (wash,ny)    \n",
    "city <- union_data (city,chi)    \n",
    "head(city)"
   ]
  },
  {
   "cell_type": "markdown",
   "metadata": {},
   "source": [
    "### Question 1 -  Popular times of travel\n",
    "\n",
    "\n",
    "**What is the most common month for a trip?**"
   ]
  },
  {
   "cell_type": "code",
   "execution_count": 92,
   "metadata": {},
   "outputs": [],
   "source": [
    "# Using following functions to use the ymd_hms (otherwise, it will give an error as 'could not find ymd_hms') \n",
    "\n",
    "library(dplyr)\n",
    "library(lubridate)\n",
    "library(hms)"
   ]
  },
  {
   "cell_type": "code",
   "execution_count": 93,
   "metadata": {},
   "outputs": [
    {
     "name": "stderr",
     "output_type": "stream",
     "text": [
      "Warning message:\n",
      "“ 1 failed to parse.”"
     ]
    }
   ],
   "source": [
    "# Splitting date data into year, month, date, hours, minutes and seconds for accurate analysis \n",
    "\n",
    "city$Start.Time <- ymd_hms(city$Start.Time)\n",
    "city$End.Time <- ymd_hms(city$End.Time)"
   ]
  },
  {
   "cell_type": "code",
   "execution_count": 94,
   "metadata": {},
   "outputs": [],
   "source": [
    "# Extracting a Month from the date data \n",
    "\n",
    "city$Month <- month(city$Start.Time)"
   ]
  },
  {
   "cell_type": "code",
   "execution_count": 95,
   "metadata": {},
   "outputs": [],
   "source": [
    "# Uploading the following library for ggplot function \n",
    "\n",
    "library(ggplot2)"
   ]
  },
  {
   "cell_type": "code",
   "execution_count": 97,
   "metadata": {},
   "outputs": [
    {
     "name": "stderr",
     "output_type": "stream",
     "text": [
      "Warning message:\n",
      "“Removed 1 rows containing non-finite values (stat_count).”"
     ]
    },
    {
     "data": {
      "image/png": "[encoded data removed]",
      "text/plain": [
       "plot without title"
      ]
     },
     "metadata": {},
     "output_type": "display_data"
    }
   ],
   "source": [
    "# Creating a bar graph using ggplot function \n",
    "\n",
    "ggplot(aes(x = Month, fill = City), data = city) +\n",
    "    geom_bar(position = 'dodge', colour=\"black\") +\n",
    "    scale_x_continuous(breaks = c(1,2,3,4,5,6,7,8,9,10,11,12), labels = c('Jan', 'Feb', 'Mar', 'Apr', 'May', 'Jun','Jul','Aug','Sep','Oct','Nov','Dec')) +\n",
    "    ggtitle('Total number of rides') +\n",
    "    labs(y = 'Number of rides', x = 'Month') +\n",
    "    scale_fill_manual(\"legend\", values = c(\"Washington\" = \"orange\", \"Chicago\" = \"dark gray\", \"New York City\" = \"light blue\"))\n"
   ]
  },
  {
   "cell_type": "code",
   "execution_count": null,
   "metadata": {},
   "outputs": [],
   "source": []
  },
  {
   "cell_type": "markdown",
   "metadata": {},
   "source": [
    "**Summary:**\n",
    "\n",
    "> - The graph illustrates that June is the most popular month in all three cities. The number of rides in June is twice higher than in January. This is because people often have summer holidays in June and therefore, they prefer to ride bikes, relax and travel.  \n",
    "- Washington has a higher number of rides than New York and Chicago. New York is in second place, and Chicago has the lowest number of rides. \n",
    "- January is the least popular month, probably because it is the winter season and people prefer to use another transportation during the cold season. \n"
   ]
  },
  {
   "cell_type": "markdown",
   "metadata": {},
   "source": [
    "### Question 2 - Trip duration \n",
    "\n",
    "**What is the total travel time for users in different cities?**"
   ]
  },
  {
   "cell_type": "code",
   "execution_count": 30,
   "metadata": {},
   "outputs": [
    {
     "name": "stdout",
     "output_type": "stream",
     "text": [
      "\n",
      "      Chicago New York City    Washington \n",
      "         8630         54770         89051 \n"
     ]
    }
   ],
   "source": [
    "# Creating a new def 'total time' to count of users in all three cities \n",
    "\n",
    "total_time = sort(table(city$City))\n",
    "print(total_time)"
   ]
  },
  {
   "cell_type": "code",
   "execution_count": 31,
   "metadata": {},
   "outputs": [
    {
     "data": {
      "text/plain": [
       "\n",
       "      Chicago New York City    Washington \n",
       "          5.7          35.9          58.4 "
      ]
     },
     "metadata": {},
     "output_type": "display_data"
    }
   ],
   "source": [
    "# Counting percentage of users in all three cities \n",
    "\n",
    "round((total_time / sum(total_time) * 100), digits = 1)"
   ]
  },
  {
   "cell_type": "code",
   "execution_count": 34,
   "metadata": {},
   "outputs": [],
   "source": [
    "library(ggplot2)"
   ]
  },
  {
   "cell_type": "code",
   "execution_count": 61,
   "metadata": {},
   "outputs": [
    {
     "name": "stderr",
     "output_type": "stream",
     "text": [
      "Warning message:\n",
      "“Removed 2 rows containing non-finite values (stat_summary).”"
     ]
    },
    {
     "data": {
      "image/png": "[encoded data removed]",
      "text/plain": [
       "plot without title"
      ]
     },
     "metadata": {},
     "output_type": "display_data"
    }
   ],
   "source": [
    "# Creating a plot using ggplot function \n",
    "\n",
    "ggplot(aes(x = City, y = Trip.Duration), data = city) +\n",
    "    geom_bar(position = 'dodge', stat = \"summary\", fun.y = \"sum\", fill = \"dark gray\", color=\"black\") + \n",
    "    ggtitle('Total travel time for users in different cities') +\n",
    "    labs(y = 'Trip Duration', x = 'City') +\n",
    "    coord_flip()"
   ]
  },
  {
   "cell_type": "markdown",
   "metadata": {},
   "source": [
    "**Summary:**\n",
    "> - Total travel time for users in all three cities differs from each other. \n",
    "- Washington is in the first place, with a total travel time - 58.4%. This is because there are more numbers of users than in the other two cities. \n",
    "- New York is in second place, with 35.9% of total travel time. \n",
    "- Chicago is in third place, with 5.7 % of total travel time. \n"
   ]
  },
  {
   "cell_type": "markdown",
   "metadata": {},
   "source": [
    "### Question 3 - User info \n",
    "\n",
    "**What are the counts of each user type?**"
   ]
  },
  {
   "cell_type": "code",
   "execution_count": 43,
   "metadata": {},
   "outputs": [],
   "source": [
    "# Creating a concatenation function\n",
    "\n",
    "concatenation <- function(d1, d2, d3) {\n",
    "  return(rbind(d1, d2, d3))\n",
    "}"
   ]
  },
  {
   "cell_type": "code",
   "execution_count": 44,
   "metadata": {},
   "outputs": [],
   "source": [
    "# Creating new definition \"user_type\" for accurate analysis \n",
    "\n",
    "cities_f<- concatenation(wash,ny,chi)  "
   ]
  },
  {
   "cell_type": "code",
   "execution_count": 45,
   "metadata": {},
   "outputs": [
    {
     "name": "stdout",
     "output_type": "stream",
     "text": [
      "\n",
      "             Customer Subscriber \n",
      "       121      30754     121576 \n"
     ]
    }
   ],
   "source": [
    "# Count of users (subscriber and customer)\n",
    "\n",
    "total_user = sort(table(cities_f$User.Type))\n",
    "print(total_user)"
   ]
  },
  {
   "cell_type": "code",
   "execution_count": 47,
   "metadata": {},
   "outputs": [
    {
     "data": {
      "text/plain": [
       "\n",
       "             Customer Subscriber \n",
       "      0.08      20.17      79.75 "
      ]
     },
     "metadata": {},
     "output_type": "display_data"
    }
   ],
   "source": [
    "# Counting percentage of users \n",
    "\n",
    "round((total_user / length(cities_f$User.Type) * 100), digits = 2)"
   ]
  },
  {
   "cell_type": "code",
   "execution_count": 52,
   "metadata": {},
   "outputs": [
    {
     "data": {
      "image/png": "[encoded data removed]",
      "text/plain": [
       "plot without title"
      ]
     },
     "metadata": {},
     "output_type": "display_data"
    }
   ],
   "source": [
    "# Creating graph using ggplot\n",
    "\n",
    "ggplot(aes(x = User.Type, fill = City), data = cities_f) +\n",
    "    geom_bar(position = 'dodge', colour=\"black\") +\n",
    "    ggtitle('Total counts of each user type') +\n",
    "    scale_x_discrete(labels = c('Unmentioned', 'Customer', 'Subscriber')) +\n",
    "    labs(y = 'Number of Riders', x = 'User Type') +\n",
    "    scale_fill_manual(\"legend\", values = c(\"Washington\" = \"orange\", \"Chicago\" = \"dark gray\", \"New York City\" = \"light blue\"))"
   ]
  },
  {
   "cell_type": "code",
   "execution_count": 54,
   "metadata": {},
   "outputs": [
    {
     "name": "stdout",
     "output_type": "stream",
     "text": [
      "\n",
      "             Customer Subscriber \n",
      "         1      23450      65600 \n"
     ]
    }
   ],
   "source": [
    "# To see the numbers and percentage, I will count user type for each city \n",
    "\n",
    "# Counting of user type in Washington \n",
    "\n",
    "total_wash = sort(table(cities_f$User.Type[cities_f$City == 'Washington']))\n",
    "print(total_wash)"
   ]
  },
  {
   "cell_type": "code",
   "execution_count": 55,
   "metadata": {},
   "outputs": [
    {
     "data": {
      "text/plain": [
       "\n",
       "             Customer Subscriber \n",
       "      0.00      26.33      73.67 "
      ]
     },
     "metadata": {},
     "output_type": "display_data"
    }
   ],
   "source": [
    "# Counting percentage of user type in Washington \n",
    "\n",
    "round((total_wash / length(cities_f$User.Type[cities_f$City == 'Washington']) * 100), digits = 2)"
   ]
  },
  {
   "cell_type": "code",
   "execution_count": 56,
   "metadata": {},
   "outputs": [
    {
     "name": "stdout",
     "output_type": "stream",
     "text": [
      "\n",
      "             Customer Subscriber \n",
      "         0          0          0 \n"
     ]
    }
   ],
   "source": [
    "# Counting of user type in New York  \n",
    "\n",
    "total_ny = sort(table(cities_f$User.Type[cities_f$City == 'New York']))\n",
    "print(total_ny)"
   ]
  },
  {
   "cell_type": "code",
   "execution_count": 57,
   "metadata": {},
   "outputs": [
    {
     "name": "stdout",
     "output_type": "stream",
     "text": [
      "\n",
      "             Customer Subscriber \n",
      "         1       1746       6883 \n"
     ]
    }
   ],
   "source": [
    "# Counting of user type in Chicago  \n",
    "\n",
    "total_chi = sort(table(cities_f$User.Type[cities_f$City == 'Chicago']))\n",
    "print(total_chi)"
   ]
  },
  {
   "cell_type": "code",
   "execution_count": 58,
   "metadata": {},
   "outputs": [
    {
     "data": {
      "text/plain": [
       "\n",
       "             Customer Subscriber \n",
       "      0.01      20.23      79.76 "
      ]
     },
     "metadata": {},
     "output_type": "display_data"
    }
   ],
   "source": [
    "# Counting percentage of user type in Chiccago  \n",
    "\n",
    "round((total_chi / length(cities_f$User.Type[cities_f$City == 'Chicago']) * 100), digits = 2)"
   ]
  },
  {
   "cell_type": "markdown",
   "metadata": {},
   "source": [
    "**Summary #3:**\n",
    "> - Subscribers use bikes much more than customers. The number of subscribers in Washington city is almost 74 percent, and in Chicago is almost 80 percent. The amount of customers in Washington is 26 percent, in Chicago is 20 percent. \n",
    "> - There is no data about the user's type for New York City. "
   ]
  },
  {
   "cell_type": "code",
   "execution_count": 99,
   "metadata": {},
   "outputs": [],
   "source": [
    "system('python -m nbconvert Explore_bikeshare_data.ipynb')"
   ]
  },
  {
   "cell_type": "code",
   "execution_count": null,
   "metadata": {},
   "outputs": [],
   "source": []
  }
 ],
 "metadata": {
  "kernelspec": {
   "display_name": "R",
   "language": "R",
   "name": "ir"
  },
  "language_info": {
   "codemirror_mode": "r",
   "file_extension": ".r",
   "mimetype": "text/x-r-source",
   "name": "R",
   "pygments_lexer": "r",
   "version": "3.5.1"
  }
 },
 "nbformat": 4,
 "nbformat_minor": 2
}
